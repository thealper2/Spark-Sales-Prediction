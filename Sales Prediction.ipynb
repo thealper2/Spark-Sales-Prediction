{
 "cells": [
  {
   "cell_type": "code",
   "execution_count": null,
   "id": "97e70610",
   "metadata": {},
   "outputs": [],
   "source": [
    "import findspark\n",
    "findspark.init()"
   ]
  },
  {
   "cell_type": "code",
   "execution_count": null,
   "id": "8ccc545b",
   "metadata": {},
   "outputs": [],
   "source": [
    "from pyspark.sql import SparkSession\n",
    "\n",
    "spark = SparkSession.builder \\\n",
    ".master(\"local[4]\") \\\n",
    ".appName(\"SalesPrediction\") \\\n",
    ".config(\"spark.executor.memory\", \"1g\") \\\n",
    ".config(\"spark.driver.memory\", \"1g\") \\\n",
    ".getOrCreate()"
   ]
  },
  {
   "cell_type": "code",
   "execution_count": null,
   "id": "e0048d14",
   "metadata": {},
   "outputs": [],
   "source": [
    "adv = spark.read.format(\"csv\") \\\n",
    ".option(\"header\", True) \\\n",
    ".option(\"inferSchema\", True) \\\n",
    ".option(\"sep\", \",\") \\\n",
    ".load(\"/home/alper/Spark/data/Advertising.csv\")"
   ]
  },
  {
   "cell_type": "code",
   "execution_count": null,
   "id": "ecf490ba",
   "metadata": {},
   "outputs": [],
   "source": [
    "adv.limit(5).toPandas().head()"
   ]
  },
  {
   "cell_type": "code",
   "execution_count": null,
   "id": "f7280fbb",
   "metadata": {},
   "outputs": [],
   "source": [
    "adv.describe().toPandas()"
   ]
  },
  {
   "cell_type": "code",
   "execution_count": null,
   "id": "42eb3a64",
   "metadata": {},
   "outputs": [],
   "source": [
    "from pyspark.ml.feature import VectorAssembler\n",
    "\n",
    "vector_assembler = VectorAssembler() \\\n",
    ".setInputCols([\"TV\", \"Radio\", \"Newspaper\"]) \\\n",
    ".setOutputCol(\"features\")"
   ]
  },
  {
   "cell_type": "code",
   "execution_count": null,
   "id": "b1496747",
   "metadata": {},
   "outputs": [],
   "source": [
    "from pyspark.ml.regression import LinearRegression\n",
    "\n",
    "lr_object = LinearRegression() \\\n",
    ".setFeaturesCol(\"features\") \\\n",
    ".setLabelCol(\"Sales\")"
   ]
  },
  {
   "cell_type": "code",
   "execution_count": null,
   "id": "5f925d35",
   "metadata": {},
   "outputs": [],
   "source": [
    "train_df, test_df = adv.randomSplit([0.8, 0.2], seed=4242)"
   ]
  },
  {
   "cell_type": "code",
   "execution_count": null,
   "id": "61e9b4d0",
   "metadata": {},
   "outputs": [],
   "source": [
    "from pyspark.ml import Pipeline\n",
    "\n",
    "pipe = Pipeline() \\\n",
    ".setStages([vector_assembler, lr_object])"
   ]
  },
  {
   "cell_type": "code",
   "execution_count": null,
   "id": "b469f8e6",
   "metadata": {},
   "outputs": [],
   "source": [
    "model = pipe.fit(train_df)"
   ]
  },
  {
   "cell_type": "code",
   "execution_count": null,
   "id": "2d5bd8c8",
   "metadata": {},
   "outputs": [],
   "source": [
    "resultDF = model.transform(train_df)"
   ]
  },
  {
   "cell_type": "code",
   "execution_count": null,
   "id": "1d66b6bc",
   "metadata": {},
   "outputs": [],
   "source": [
    "resultDF.limit(5).toPandas().head()"
   ]
  },
  {
   "cell_type": "code",
   "execution_count": null,
   "id": "7b8e5809",
   "metadata": {},
   "outputs": [],
   "source": [
    "model.stages"
   ]
  },
  {
   "cell_type": "code",
   "execution_count": null,
   "id": "8c5148a0",
   "metadata": {},
   "outputs": [],
   "source": [
    "lr_model = model.stages[1]"
   ]
  },
  {
   "cell_type": "code",
   "execution_count": null,
   "id": "0bbf9dc0",
   "metadata": {},
   "outputs": [],
   "source": [
    "lr_model.coefficients"
   ]
  },
  {
   "cell_type": "code",
   "execution_count": null,
   "id": "ea43a434",
   "metadata": {},
   "outputs": [],
   "source": [
    "lr_model.intercept"
   ]
  },
  {
   "cell_type": "code",
   "execution_count": null,
   "id": "07a0c27f",
   "metadata": {},
   "outputs": [],
   "source": [
    "print(\"y =\", lr_model.intercept, \"(TV *\", lr_model.coefficients[0],\n",
    "      \") + (Radio *\", lr_model.coefficients[1], \") + (Newspaper *\", lr_model.coefficients[2], \")\")"
   ]
  },
  {
   "cell_type": "code",
   "execution_count": null,
   "id": "388f6b0b",
   "metadata": {},
   "outputs": [],
   "source": [
    "print(\"R2 Score: \", lr_model.summary.r2)"
   ]
  },
  {
   "cell_type": "code",
   "execution_count": null,
   "id": "3a79aa27",
   "metadata": {},
   "outputs": [],
   "source": [
    "print(\"RMSE Score: \", lr_model.summary.rootMeanSquaredError)"
   ]
  },
  {
   "cell_type": "code",
   "execution_count": null,
   "id": "21f8d7dd",
   "metadata": {},
   "outputs": [],
   "source": [
    "print(\"MAE Score: \", lr_model.summary.meanAbsoluteError)"
   ]
  },
  {
   "cell_type": "code",
   "execution_count": null,
   "id": "817ac472",
   "metadata": {},
   "outputs": [],
   "source": [
    "print(\"MSE Score: \", lr_model.summary.meanSquaredError)"
   ]
  },
  {
   "cell_type": "code",
   "execution_count": null,
   "id": "836fedaa",
   "metadata": {},
   "outputs": [],
   "source": [
    "import pandas as pd\n",
    "\n",
    "test = {\"TV\": [10.0], \"Radio\": [15.0], \"Newspaper\": [20.0]}\n",
    "testDF = pd.DataFrame(test)\n",
    "testDF.head()"
   ]
  },
  {
   "cell_type": "code",
   "execution_count": null,
   "id": "5a5f259f",
   "metadata": {},
   "outputs": [],
   "source": [
    "predictDF = spark.createDataFrame(testDF)\n",
    "predictDF.show()"
   ]
  },
  {
   "cell_type": "code",
   "execution_count": null,
   "id": "885751fb",
   "metadata": {},
   "outputs": [],
   "source": [
    "predictDF = vector_assembler.transform(predictDF)"
   ]
  },
  {
   "cell_type": "code",
   "execution_count": null,
   "id": "93a431e4",
   "metadata": {},
   "outputs": [],
   "source": [
    "lr_model.transform(predictDF).toPandas().head()"
   ]
  },
  {
   "cell_type": "code",
   "execution_count": null,
   "id": "21fb8fd1",
   "metadata": {},
   "outputs": [],
   "source": []
  }
 ],
 "metadata": {
  "kernelspec": {
   "display_name": "Python 3 (ipykernel)",
   "language": "python",
   "name": "python3"
  },
  "language_info": {
   "codemirror_mode": {
    "name": "ipython",
    "version": 3
   },
   "file_extension": ".py",
   "mimetype": "text/x-python",
   "name": "python",
   "nbconvert_exporter": "python",
   "pygments_lexer": "ipython3",
   "version": "3.10.6"
  }
 },
 "nbformat": 4,
 "nbformat_minor": 5
}
